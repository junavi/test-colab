{
  "nbformat": 4,
  "nbformat_minor": 0,
  "metadata": {
    "colab": {
      "name": "solution.ipynb",
      "provenance": [],
      "collapsed_sections": [],
      "authorship_tag": "ABX9TyPc0AUmN10u0ZuQgnyRibxZ",
      "include_colab_link": true
    },
    "kernelspec": {
      "name": "python3",
      "display_name": "Python 3"
    },
    "language_info": {
      "name": "python"
    }
  },
  "cells": [
    {
      "cell_type": "markdown",
      "metadata": {
        "id": "view-in-github",
        "colab_type": "text"
      },
      "source": [
        "<a href=\"https://colab.research.google.com/github/junavi/test-colab/blob/main/solution.ipynb\" target=\"_parent\"><img src=\"https://colab.research.google.com/assets/colab-badge.svg\" alt=\"Open In Colab\"/></a>"
      ]
    },
    {
      "cell_type": "markdown",
      "source": [
        "![Python](data:image/jpeg;base64,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)\n",
        "\n",
        "> 300 Exercises"
      ],
      "metadata": {
        "id": "OG2V7eCZuxqy"
      }
    },
    {
      "cell_type": "code",
      "source": [
        "print (\"Hello, world!\")"
      ],
      "metadata": {
        "colab": {
          "base_uri": "https://localhost:8080/"
        },
        "id": "wuxNuUvZwTAg",
        "outputId": "1cb908f0-cda4-474b-8612-71b18c530b74"
      },
      "execution_count": 1,
      "outputs": [
        {
          "output_type": "stream",
          "name": "stdout",
          "text": [
            "Hello, world!\n"
          ]
        }
      ]
    },
    {
      "cell_type": "code",
      "source": [
        "age = 45\n",
        "print(f'I am {age} years old.')"
      ],
      "metadata": {
        "colab": {
          "base_uri": "https://localhost:8080/"
        },
        "id": "SgN3RyLQw8vZ",
        "outputId": "a07c9f5b-0ccf-41c3-abcb-8642592f35a0"
      },
      "execution_count": 2,
      "outputs": [
        {
          "output_type": "stream",
          "name": "stdout",
          "text": [
            "I am 45 years old.\n"
          ]
        }
      ]
    },
    {
      "cell_type": "code",
      "source": [
        "lang = 'Python'\n",
        "version = '3.10'\n",
        "print(f'I am learning {lang} version {version}.')"
      ],
      "metadata": {
        "colab": {
          "base_uri": "https://localhost:8080/"
        },
        "id": "R1kdQn_Qwaf1",
        "outputId": "95241d5d-4ab6-4bf9-fa0f-122f87214a36"
      },
      "execution_count": 3,
      "outputs": [
        {
          "output_type": "stream",
          "name": "stdout",
          "text": [
            "I am learning Python version 3.10.\n"
          ]
        }
      ]
    },
    {
      "cell_type": "code",
      "source": [
        "price = 199.99\n",
        "type(price)"
      ],
      "metadata": {
        "colab": {
          "base_uri": "https://localhost:8080/"
        },
        "id": "iRkKUfTjx3kK",
        "outputId": "14516511-6afd-451b-ce08-b0b14e546f13"
      },
      "execution_count": 4,
      "outputs": [
        {
          "output_type": "execute_result",
          "data": {
            "text/plain": [
              "float"
            ]
          },
          "metadata": {},
          "execution_count": 4
        }
      ]
    },
    {
      "cell_type": "code",
      "source": [
        "print('This costs \"', price,'\"')"
      ],
      "metadata": {
        "colab": {
          "base_uri": "https://localhost:8080/"
        },
        "id": "3DgaqpCWyJC1",
        "outputId": "10ccbdc8-000b-4e68-8554-26b054ac7a96"
      },
      "execution_count": 5,
      "outputs": [
        {
          "output_type": "stream",
          "name": "stdout",
          "text": [
            "This costs \" 199.99 \"\n"
          ]
        }
      ]
    },
    {
      "cell_type": "code",
      "source": [
        "price = 69\n",
        "type(price)"
      ],
      "metadata": {
        "colab": {
          "base_uri": "https://localhost:8080/"
        },
        "id": "PzFn6xT5yV45",
        "outputId": "861f5a49-2ae9-4dbb-c0e9-f91dac0f78eb"
      },
      "execution_count": 6,
      "outputs": [
        {
          "output_type": "execute_result",
          "data": {
            "text/plain": [
              "int"
            ]
          },
          "metadata": {},
          "execution_count": 6
        }
      ]
    },
    {
      "cell_type": "code",
      "source": [
        "print(f'This costs, \"{price}\"')"
      ],
      "metadata": {
        "colab": {
          "base_uri": "https://localhost:8080/"
        },
        "id": "u0d9IUBX10v4",
        "outputId": "450242cd-e307-4e8a-847f-f50520b9c3f5"
      },
      "execution_count": 7,
      "outputs": [
        {
          "output_type": "stream",
          "name": "stdout",
          "text": [
            "This costs, \"69\"\n"
          ]
        }
      ]
    },
    {
      "cell_type": "code",
      "source": [
        "price = 34.99\n",
        "weight = 20\n",
        "print(f'Price: ${price}. Weight: {weight}lbs.')"
      ],
      "metadata": {
        "colab": {
          "base_uri": "https://localhost:8080/"
        },
        "id": "u1Mr-CkE2ENE",
        "outputId": "321f9899-d850-4b84-95cf-ca725ab0bf71"
      },
      "execution_count": 9,
      "outputs": [
        {
          "output_type": "stream",
          "name": "stdout",
          "text": [
            "Price: $34.99. Weight: 20lbs.\n"
          ]
        }
      ]
    },
    {
      "cell_type": "code",
      "source": [
        "pi"
      ],
      "metadata": {
        "colab": {
          "base_uri": "https://localhost:8080/",
          "height": 165
        },
        "id": "0Uh0Qdai3n6a",
        "outputId": "cd6ef3f4-d3cf-47d6-98e4-018be74c30ce"
      },
      "execution_count": 10,
      "outputs": [
        {
          "output_type": "error",
          "ename": "NameError",
          "evalue": "ignored",
          "traceback": [
            "\u001b[0;31m---------------------------------------------------------------------------\u001b[0m",
            "\u001b[0;31mNameError\u001b[0m                                 Traceback (most recent call last)",
            "\u001b[0;32m<ipython-input-10-f84ab820532c>\u001b[0m in \u001b[0;36m<module>\u001b[0;34m\u001b[0m\n\u001b[0;32m----> 1\u001b[0;31m \u001b[0mpi\u001b[0m\u001b[0;34m\u001b[0m\u001b[0;34m\u001b[0m\u001b[0m\n\u001b[0m",
            "\u001b[0;31mNameError\u001b[0m: name 'pi' is not defined"
          ]
        }
      ]
    },
    {
      "cell_type": "code",
      "source": [
        "import "
      ],
      "metadata": {
        "id": "b5mIkytU354V"
      },
      "execution_count": null,
      "outputs": []
    }
  ]
}