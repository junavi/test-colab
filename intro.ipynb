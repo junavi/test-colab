{
  "nbformat": 4,
  "nbformat_minor": 0,
  "metadata": {
    "colab": {
      "name": "intro.ipynb",
      "provenance": [],
      "collapsed_sections": [],
      "authorship_tag": "ABX9TyMf/EHoeu+d3EhG0lleO0YU",
      "include_colab_link": true
    },
    "kernelspec": {
      "name": "python3",
      "display_name": "Python 3"
    },
    "language_info": {
      "name": "python"
    }
  },
  "cells": [
    {
      "cell_type": "markdown",
      "metadata": {
        "id": "view-in-github",
        "colab_type": "text"
      },
      "source": [
        "<a href=\"https://colab.research.google.com/github/junavi/test-colab/blob/main/intro.ipynb\" target=\"_parent\"><img src=\"https://colab.research.google.com/assets/colab-badge.svg\" alt=\"Open In Colab\"/></a>"
      ]
    },
    {
      "cell_type": "markdown",
      "source": [
        "## Sales"
      ],
      "metadata": {
        "id": "dLWjqCktRhZ6"
      }
    },
    {
      "cell_type": "code",
      "source": [
        "revenue = 10000\n",
        "tax = 0.19\n",
        "income = revenue * tax\n",
        "income"
      ],
      "metadata": {
        "colab": {
          "base_uri": "https://localhost:8080/"
        },
        "id": "SCx3h87wOizJ",
        "outputId": "52983f85-5d7e-4e60-a6fa-6119d436e3b1"
      },
      "execution_count": null,
      "outputs": [
        {
          "output_type": "execute_result",
          "data": {
            "text/plain": [
              "1900.0"
            ]
          },
          "metadata": {},
          "execution_count": 6
        }
      ]
    },
    {
      "cell_type": "code",
      "source": [
        "print(income)"
      ],
      "metadata": {
        "colab": {
          "base_uri": "https://localhost:8080/"
        },
        "id": "me6UzSkgQ9Ue",
        "outputId": "df3016f3-5cb5-4d18-b3cb-66eb0beb36e3"
      },
      "execution_count": null,
      "outputs": [
        {
          "output_type": "stream",
          "name": "stdout",
          "text": [
            "1900.0\n"
          ]
        }
      ]
    },
    {
      "cell_type": "markdown",
      "source": [
        "### Sumamry"
      ],
      "metadata": {
        "id": "YvYvsDxpRmZL"
      }
    },
    {
      "cell_type": "code",
      "source": [
        "import numpy as np\n",
        "\n",
        "np.__version__\n"
      ],
      "metadata": {
        "colab": {
          "base_uri": "https://localhost:8080/",
          "height": 35
        },
        "id": "g0fZs9WQTsNi",
        "outputId": "b46c2f6c-0855-46bb-bd6a-60a75ca55967"
      },
      "execution_count": null,
      "outputs": [
        {
          "output_type": "execute_result",
          "data": {
            "text/plain": [
              "'1.21.6'"
            ],
            "application/vnd.google.colaboratory.intrinsic+json": {
              "type": "string"
            }
          },
          "metadata": {},
          "execution_count": 15
        }
      ]
    },
    {
      "cell_type": "code",
      "source": [
        "np.random.rand(3,4)"
      ],
      "metadata": {
        "colab": {
          "base_uri": "https://localhost:8080/"
        },
        "id": "5oexo4AXT4px",
        "outputId": "2a0b4425-a442-4eaa-ad70-cd5a3c07a4ba"
      },
      "execution_count": null,
      "outputs": [
        {
          "output_type": "execute_result",
          "data": {
            "text/plain": [
              "array([[0.61414666, 0.04466753, 0.98076232, 0.2196468 ],\n",
              "       [0.06067615, 0.33227848, 0.64904315, 0.43124952],\n",
              "       [0.71688711, 0.39237111, 0.28104065, 0.42957222]])"
            ]
          },
          "metadata": {},
          "execution_count": 17
        }
      ]
    },
    {
      "cell_type": "markdown",
      "source": [
        "## Markdown"
      ],
      "metadata": {
        "id": "dITkVN1RU4fG"
      }
    },
    {
      "cell_type": "markdown",
      "source": [
        "```\n",
        "Examples of markdown\n",
        "```\n",
        "Examples of *markdown*\n",
        "Examples of **markdown**\n",
        "Examples of __markdown__\n",
        "Examples of `markdown`\n",
        "\n",
        ">Python\n",
        ">>>Code\n",
        "\n",
        "An ordered list:\n",
        "\n",
        "1. One\n",
        "2. Two\n",
        "3. three\n",
        "\n",
        "An unordered list:\n",
        "\n",
        "* One\n",
        "* Two\n",
        "* Three\n",
        "\n"
      ],
      "metadata": {
        "id": "VZG0YSAGU-2p"
      }
    },
    {
      "cell_type": "markdown",
      "source": [
        "[Google](https://www.google.com/?hl=es)\n",
        "\n",
        "![Python](data:image/png;base64,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)"
      ],
      "metadata": {
        "id": "sCuWqUYdXhvl"
      }
    },
    {
      "cell_type": "code",
      "source": [
        ""
      ],
      "metadata": {
        "id": "TyLmNpkyXtpc"
      },
      "execution_count": null,
      "outputs": []
    },
    {
      "cell_type": "markdown",
      "source": [
        "$y = x^2$\n",
        "\n",
        "$\\frac{1}{n}\\sum_{i=1}^{n}x_{i}$"
      ],
      "metadata": {
        "id": "EPnOVXqGZACr"
      }
    },
    {
      "cell_type": "markdown",
      "source": [
        "$A = \\begin{pmatrix}\n",
        "a_{1, 1} & {1, 2} \\\\\n",
        "a_{2, 1} & {2, 2}\n",
        "\\end{pmatrix}$"
      ],
      "metadata": {
        "id": "CPSTLWr0bti_"
      }
    },
    {
      "cell_type": "markdown",
      "source": [
        "col1 | col2 | col3\n",
        "--- | --- | ---\n",
        "Val1 | val2 | val3\n",
        "val4 | Val5 | Val6"
      ],
      "metadata": {
        "id": "LvkTs7q_caZN"
      }
    },
    {
      "cell_type": "code",
      "source": [
        ""
      ],
      "metadata": {
        "id": "pnuyFGu2dQBJ"
      },
      "execution_count": null,
      "outputs": []
    }
  ]
}