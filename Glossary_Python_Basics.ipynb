{
  "nbformat": 4,
  "nbformat_minor": 0,
  "metadata": {
    "colab": {
      "name": "Untitled0.ipynb",
      "provenance": [],
      "collapsed_sections": [],
      "authorship_tag": "ABX9TyPTOH9TyVDYnhwCQQD7Dz8F",
      "include_colab_link": true
    },
    "kernelspec": {
      "name": "python3",
      "display_name": "Python 3"
    },
    "language_info": {
      "name": "python"
    }
  },
  "cells": [
    {
      "cell_type": "markdown",
      "metadata": {
        "id": "view-in-github",
        "colab_type": "text"
      },
      "source": [
        "<a href=\"https://colab.research.google.com/github/junavi/test-colab/blob/main/Glossary_Python_Basics.ipynb\" target=\"_parent\"><img src=\"https://colab.research.google.com/assets/colab-badge.svg\" alt=\"Open In Colab\"/></a>"
      ]
    },
    {
      "cell_type": "markdown",
      "source": [
        "# **Glossary**\n",
        "## **Python Basics for Data Science**\n",
        "### Module 1 Glossary: Python Basics\n",
        "### Student: Junior Avila"
      ],
      "metadata": {
        "id": "KqYYWXX023iD"
      }
    },
    {
      "cell_type": "markdown",
      "source": [
        "## **Term** & **Definition**\n",
        "\n",
        "\n",
        "**Boolean**: A data type that can take on two values: 0 or 1, where 0 represents false and 1 represents true.\n",
        "\n",
        "**Concatenate**: Combining two or more strings into a single string.\n",
        "\n",
        "**Expression**: An operation that Python executes such as add or subtract.\n",
        "\n",
        "**Float**: A number with a decimal point.\n",
        "\n",
        "**Integer**: A positive or negative whole number.\n",
        "\n",
        "**Operand**: A numeric value in an expression.\n",
        "\n",
        "**Operator**: A math symbol used to combine operands in an expresion.\n",
        "\n",
        "**String**: A string is a data type containing alphanumeric characters or symbols. When defining a string the string should be enclosed in single or double quotes.\n",
        "\n"
      ],
      "metadata": {
        "id": "QA_fun634Hs_"
      }
    },
    {
      "cell_type": "markdown",
      "source": [],
      "metadata": {
        "id": "1tWIgljt5MwW"
      }
    }
  ]
}